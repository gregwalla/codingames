{
 "cells": [
  {
   "cell_type": "code",
   "execution_count": 44,
   "metadata": {},
   "outputs": [],
   "source": [
    "import numpy as np\n",
    "\n",
    "width = 12\n",
    "height = 6\n",
    "\n",
    "raw_lists = {\n",
    "    'scrap_amount': np.array([\n",
    "        [ 6.,  8.,  8.,  8.,  8.,  8.,  8., 10.,  8.,  6.,  0.,  0.],\n",
    "       [ 8.,  6.,  8.,  6.,  9.,  4.,  4.,  9.,  0.,  4.,  8.,  8.],\n",
    "       [ 0.,  8., 10.,  4.,  8.,  6.,  8.,  8.,  8., 10.,  1.,  8.],\n",
    "       [ 8.,  1., 10.,  8.,  8.,  8.,  6.,  8.,  4., 10.,  8.,  0.],\n",
    "       [ 8.,  8.,  4.,  0.,  9.,  4.,  4.,  9.,  6.,  8.,  6.,  8.],\n",
    "       [ 0.,  0.,  6.,  8., 10.,  8.,  8.,  8.,  8.,  8.,  0,  6.]]), \n",
    "    'owner': np.array([\n",
    "        [-1., -1., -1., -1., -1., -1., -1., -1., -1., -1., -1., -1.],\n",
    "       [-1., -1., -1., -1., -1., -1., -1., -1., -1.,  0., -1., -1.],\n",
    "       [-1., -1.,  1., -1., -1., -1., -1., -1.,  0.,  0.,  0., 1.],\n",
    "       [1.,  1.,  1.,  1., -1., -1., -1., -1., -1.,  0., -1., -1.],\n",
    "       [-1., -1.,  1., -1., -1., -1., -1., -1., -1., -1., -1., -1.],\n",
    "       [-1., -1., -1., -1., -1., -1., -1., -1., -1., -1., -1., 1.]]), \n",
    "    'units': np.array([\n",
    "        [0., 0., 0., 0., 0., 0., 0., 0., 0., 0., 0., 0.],\n",
    "       [0., 0., 0., 0., 0., 0., 0., 0., 0., 1., 0., 0.],\n",
    "       [0., 0., 1., 0., 0., 0., 0., 0., 1., 0., 1., 1],\n",
    "       [2, 1., 0., 2, 0., 0., 0., 0., 0., 1., 0., 0.],\n",
    "       [0., 0., 1., 0., 0., 0., 0., 0., 0., 0., 0., 0.],\n",
    "       [0., 0., 0., 0., 0., 0., 0., 0., 0., 0., 0., 2]]), \n",
    "    'recycler': np.array([\n",
    "        [1., 0., 0., 0., 0., 0., 0., 0., 0., 0., 0., 1],\n",
    "       [0., 0., 0., 0., 0., 0., 0., 0., 0., 0., 0., 0.],\n",
    "       [0., 0., 0., 0., 0., 0., 0., 0., 0., 0., 0., 0.],\n",
    "       [0., 0., 0., 0., 0., 0., 0., 0., 0., 0., 0., 0.],\n",
    "       [0., 0., 0., 0., 0., 0., 0., 0., 0., 0., 0., 1],\n",
    "       [0., 0., 0., 0., 0., 0., 0., 0., 0., 0., 0., 1]]), \n",
    "    'can_build': np.array([\n",
    "        [0., 0., 0., 0., 0., 0., 0., 0., 0., 0., 0., 0.],\n",
    "       [0., 0., 0., 0., 0., 0., 0., 0., 0., 0., 0., 0.],\n",
    "       [0., 0., 1., 0., 0., 0., 0., 0., 0., 0., 0., 0.],\n",
    "       [0., 1., 1., 1., 0., 0., 0., 0., 0., 0., 0., 0.],\n",
    "       [0., 0., 0., 0., 0., 0., 0., 0., 0., 0., 0., 0.],\n",
    "       [0., 0., 0., 0., 0., 0., 0., 0., 0., 0., 0., 0.]]), \n",
    "    'can_spawn': np.array([\n",
    "        [0., 0., 0., 0., 0., 0., 0., 0., 0., 0., 0., 0.],\n",
    "       [0., 0., 0., 0., 0., 0., 0., 0., 0., 0., 0., 0.],\n",
    "       [0., 0., 1., 0., 0., 0., 0., 0., 0., 0., 0., 0.],\n",
    "       [0., 1., 1., 1., 0., 0., 0., 0., 0., 0., 0., 0.],\n",
    "       [0., 0., 1., 0., 0., 0., 0., 0., 0., 0., 0., 0.],\n",
    "       [0., 0., 0., 0., 0., 0., 0., 0., 0., 0., 0., 0.]]), \n",
    "    'in_range_of_recycler': np.array([\n",
    "        [1, 0., 0., 0., 0., 0., 0., 0., 0., 0., 0., 0.],\n",
    "       [0., 0., 0., 0., 1, 0., 0., 0., 0., 0., 0., 0.],\n",
    "       [0., 0., 0., 0., 0., 0., 0., 0., 0., 0., 0., 0.],\n",
    "        [0., 0., 0., 0., 0, 0., 0., 0., 0., 0., 0., 0.],\n",
    "       [0., 0., 0., 0., 0., 0., 0., 0., 1, 1, 0., 0.],\n",
    "       [0., 0., 0., 0., 0., 0., 0., 0., 0., 1, 0., 0.]]),\n",
    "       }"
   ]
  },
  {
   "cell_type": "code",
   "execution_count": 37,
   "metadata": {},
   "outputs": [],
   "source": [
    "def sum_around(nparray):\n",
    "    \" Add the 4 tiles around each position of the matrix\"\n",
    "    padded_array = np.pad(nparray, pad_width=1, mode='constant', constant_values=0)\n",
    "    u_array = np.pad(padded_array[1:, :], pad_width=((0,1),(0,0)), mode='constant', constant_values=0 )\n",
    "    d_array = np.pad(padded_array[:-1, :], pad_width=((1,0),(0,0)), mode='constant', constant_values=0 )\n",
    "    l_array = np.pad(padded_array[:, 1:], pad_width=((0,0),(0,1)), mode='constant', constant_values=0 )\n",
    "    r_array = np.pad(padded_array[:, :-1], pad_width=((0,0),(1,0)), mode='constant', constant_values=0 )\n",
    "    s_array = padded_array + u_array+ d_array + l_array + r_array\n",
    "    result = s_array[1:-1,1:-1]\n",
    "    return result\n",
    "\n",
    "def my_damage(nparray):\n",
    "    \"\"\"returns a matrix with negative score if neighbour belongs to me \n",
    "    min = -50 \"\"\"\n",
    "    my_array = nparray.copy()\n",
    "    my_array[my_array !=  1] = 0\n",
    "    return sum_around(my_array) * -10\n",
    "\n",
    "def op_damage(nparray):\n",
    "    \"\"\"returns a matrix with positive score if neighbour belongs to opponent\n",
    "    max = 30 \"\"\"\n",
    "    op_array = nparray.copy() + 1 \n",
    "    op_array[op_array !=  1] = 0\n",
    "    return sum_around(op_array) * 10\n",
    "\n",
    "\n",
    "def harvest_scores_array(nparr1, nparr2):\n",
    "    \"\"\" dependency on sum_around()\"\"\"\n",
    "    result = sum_around(nparr1) + my_damage(nparr2)+ op_damage(nparr2)\n",
    "    return result\n",
    "\n",
    "\n",
    "def select_harvest_list(nparray):\n",
    "    \"takes a np array and returns filtered positions as a list\"\n",
    "    tupl = np.where(nparray > 0)\n",
    "    lst = [(tupl[0][i], tupl[1][i]) for i in range(len(tupl[0]))]\n",
    "    return lst\n",
    "\n",
    "def scores_dict(nparray):\n",
    "    \"\"\"transforms the scores into dict \n",
    "    dependency on select_harvest_list()\"\"\"\n",
    "    keys = select_harvest_list(nparray)\n",
    "    values = [nparray[keys[i][0], keys[i][1]].item() for i in range(len(keys))]\n",
    "    dct = dict(zip(keys, values))\n",
    "    return dct"
   ]
  },
  {
   "cell_type": "code",
   "execution_count": 38,
   "metadata": {},
   "outputs": [
    {
     "data": {
      "text/plain": [
       "'BUILD 2 2'"
      ]
     },
     "execution_count": 38,
     "metadata": {},
     "output_type": "execute_result"
    }
   ],
   "source": [
    "# Harvest logic\n",
    "\n",
    "harvest_scores = harvest_scores_array(raw_lists['scrap_amount'], raw_lists['owner'])\n",
    "harvest_scores_filtered = harvest_scores*raw_lists['can_build' ]\n",
    "h_scores = scores_dict(harvest_scores_filtered)\n",
    "\n",
    "h_score = max(h_scores, key=h_scores.get)\n",
    "\n",
    "output = f\"BUILD {h_score[1]} {h_score[0]}\"\n",
    "output"
   ]
  },
  {
   "cell_type": "code",
   "execution_count": 39,
   "metadata": {},
   "outputs": [],
   "source": [
    "def diagonal_sum(nparray):\n",
    "    \" Add the 4 tiles around each position of the matrix\"\n",
    "    padded_array = np.pad(nparray, pad_width=1, mode='constant', constant_values=0)\n",
    "    u_array = np.pad(padded_array[1:, 1:], pad_width=((0,1),(0,1)), mode='constant', constant_values=0 )\n",
    "    d_array = np.pad(padded_array[:-1, :-1], pad_width=((1,0),(1,0)), mode='constant', constant_values=0 )\n",
    "    l_array = np.pad(padded_array[1:, :-1], pad_width=((0,1),(1,0)), mode='constant', constant_values=0 )\n",
    "    r_array = np.pad(padded_array[:-1, 1:], pad_width=((1,0),(0,1)), mode='constant', constant_values=0 )\n",
    "    s_array = padded_array + u_array+ d_array + l_array + r_array\n",
    "    result = s_array[1:-1,1:-1]\n",
    "    return result\n",
    "\n",
    "def get_free_tiles(nparray):\n",
    "    \"get a map of possible moves , 1 if possible , zero otherwise\"\n",
    "    temp_array = nparray.copy()\n",
    "    temp_array[temp_array != 0] = 1\n",
    "    return temp_array\n",
    "\n",
    "def get_max_list(nparr): \n",
    "    \"Return the list of max values in array \"\n",
    "    indices = np.where(nparr == nparr.max())\n",
    "    x_y_coords =  zip(indices[0], indices[1])\n",
    "    return [coord for coord in x_y_coords]\n",
    "\n",
    "def enemy_range(nparr): \n",
    "    \"likelihood that there is a enemy on the tile 1 if likely\"\n",
    "    temp_array = nparr.copy()\n",
    "    temp_array[temp_array != 0] = -1 \n",
    "    temp_array = temp_array + 1 \n",
    "    return temp_array\n"
   ]
  },
  {
   "cell_type": "code",
   "execution_count": 5,
   "metadata": {},
   "outputs": [
    {
     "data": {
      "text/plain": [
       "{(2, 2): 10.0, (3, 1): 9.0, (3, 2): 9.0, (3, 3): 9.0, (4, 2): 8.0}"
      ]
     },
     "execution_count": 5,
     "metadata": {},
     "output_type": "execute_result"
    }
   ],
   "source": [
    "opportunities = sum_around(get_free_tiles(raw_lists['scrap_amount'])) + diagonal_sum(get_free_tiles(raw_lists['scrap_amount'])) \n",
    "threats = -raw_lists['in_range_of_recycler']*5 \n",
    "enemy = enemy_range(raw_lists[\"owner\"])\n",
    "spawn_score_filtered = (opportunities + threats + enemy) * raw_lists[\"can_spawn\"]\n",
    "s_scores = scores_dict(spawn_score_filtered)\n",
    "s_scores\n"
   ]
  },
  {
   "cell_type": "code",
   "execution_count": 79,
   "metadata": {},
   "outputs": [
    {
     "name": "stdout",
     "output_type": "stream",
     "text": [
      "keys: [(1, 2), (3, 2), (2, 1), (2, 3)]\n",
      "MOVE 1 2 2 2 1\n",
      "keys: [(1, 11), (2, 10)]\n",
      "MOVE 1 11 2 10 2\n",
      "keys: [(4, 0), (3, 1)]\n",
      "MOVE 2 0 3 0 4\n",
      "keys: [(2, 1), (4, 1), (3, 0), (3, 2)]\n",
      "MOVE 1 1 3 1 2\n",
      "keys: [(2, 3), (3, 2), (3, 4)]\n",
      "MOVE 2 3 3 3 2\n",
      "keys: [(3, 2), (5, 2), (4, 1)]\n",
      "MOVE 1 2 4 2 5\n",
      "keys: []\n"
     ]
    }
   ],
   "source": [
    "\n",
    "\n",
    "def potential_moves(pos): \n",
    "    \"\"\" returns positions around postion\n",
    "    pos as height first \"\"\"\n",
    "    return [(pos[0]-1, pos[1]) , (pos[0]+1, pos[1]), (pos[0], pos[1]-1), (pos[0], pos[1]+1)]\n",
    "\n",
    "\n",
    "def out_of_bounds(pos, width= width, height = height) : \n",
    "    \"\"\" check if pos is in grid\n",
    "    pos has a height first \n",
    "    does not work with negative indexing\"\"\"\n",
    "    tst = False\n",
    "    if pos[0] < 0 or pos[1] < 0 or pos[0] >= height or pos[1] >= width :\n",
    "        tst = True\n",
    "    return tst\n",
    "\n",
    "def in_bounds_moves(pos): \n",
    "    \"\"\" Checks wether the moves are in the grid \n",
    "    dependency on potential moves and out of bounds function \"\"\"\n",
    "    lst = potential_moves(pos)\n",
    "    new_lst = []\n",
    "    for elt in lst : \n",
    "        if not out_of_bounds(elt) :\n",
    "            new_lst.append(elt)    \n",
    "    return new_lst\n",
    "\n",
    "\n",
    "\n",
    "def to_be_recycled(pos, nparray = raw_lists[\"in_range_of_recycler\"], nparray2 = raw_lists[\"scrap_amount\"]):\n",
    "    \"\"\" check if not treatened by recycler is equal 1\n",
    "    nparray is raw_lists[\"in_range_of_recycler\"] \n",
    "    nparray2 is raw_lists[\"scrap_amount\"]\n",
    "    pos has a height first\"\"\"\n",
    "    tst = False\n",
    "    if nparray[pos[0]][pos[1]] > 0 and nparray2[pos[0]][pos[1]] < 2 : \n",
    "        tst = True\n",
    "    return tst\n",
    "\n",
    "def is_recycler(pos, nparray = raw_lists[\"recycler\"]):\n",
    "    \"\"\" check if there is no recycler in pos \n",
    "    nparray is raw_lists[\"recycler\"] \n",
    "    pos has a height first\"\"\"\n",
    "    tst = False\n",
    "    if nparray[pos[0]][pos[1]] == 1 : \n",
    "        tst = True\n",
    "    return tst\n",
    "\n",
    "def is_pos(pos, nparray= raw_lists[\"scrap_amount\"]): \n",
    "    \"\"\" check if position is equal 1 ie not in grass\n",
    "    nparray is raw_lists[\"scrap_amount\"]\n",
    "    pos has a height first\"\"\"\n",
    "    tst = False\n",
    "    if nparray[pos[0]][pos[1]] > 0 : \n",
    "        tst = True\n",
    "    return tst\n",
    "\n",
    "def move_score_pos(pos, nparray = raw_lists[\"owner\"]): \n",
    "    \"\"\"returns a score\n",
    "    nparray is raw_lists[\"owner\"]\"\"\"\n",
    "    score = 0 \n",
    "    if nparray[pos[0]][pos[1]] == 0: \n",
    "        score =  2\n",
    "    elif nparray[pos[0]][pos[1]] == -1:\n",
    "        score = 1\n",
    "    else: \n",
    "        score = 0 \n",
    "    return score\n",
    "\n",
    "def filtered_potential_moves(pos): \n",
    "    \"returns a filtered list of potentiela moves\"\n",
    "    lst = in_bounds_moves(pos)\n",
    "    new_lst = []\n",
    "    if len(lst) > 0: \n",
    "        for elt in lst : \n",
    "            if is_pos(elt) and not is_recycler(elt) and not to_be_recycled(elt): \n",
    "                new_lst.append(elt)\n",
    "    return new_lst\n",
    "        \n",
    "def scores_dict_moves(pos): \n",
    "    \"\"\"takes unit position as input \n",
    "    returns a dictionary of each potential move\"\"\"\n",
    "    keys = filtered_potential_moves(pos)\n",
    "    print(f'keys: {keys}')\n",
    "    values = [move_score_pos(move) for move in filtered_potential_moves(pos)] \n",
    "    dct = dict(zip(keys, values))\n",
    "    return dct\n",
    "\n"
   ]
  },
  {
   "cell_type": "code",
   "execution_count": 41,
   "metadata": {},
   "outputs": [
    {
     "data": {
      "text/plain": [
       "[(2, 2), (3, 0), (3, 1), (3, 3), (4, 2)]"
      ]
     },
     "execution_count": 41,
     "metadata": {},
     "output_type": "execute_result"
    }
   ],
   "source": [
    "#print(f\"pot mo. : {out_of_b.: {out_of_bounds(pos)}, toberec. : {to_be_recycled(pos)}, is_rec.: {is_recycler(pos)}, is_pos: {is_pos(pos)}\")\n",
    "\n",
    "units_list = select_harvest_list(raw_lists['units'] * raw_lists['owner'])\n",
    "\n",
    "for unit in units_list :\n",
    "    m_scores = scores_dict_moves(unit)\n",
    "    if m_scores : \n",
    "        m_score = max(m_scores, key=m_scores.get)\n",
    "        print(\n",
    "            f\"MOVE {int(raw_lists['units'][unit[0]][unit[1]])} {unit[1]} {unit[0]} {m_score[1]} {m_score[0]}\")\n"
   ]
  },
  {
   "cell_type": "code",
   "execution_count": 59,
   "metadata": {},
   "outputs": [
    {
     "data": {
      "text/plain": [
       "True"
      ]
     },
     "execution_count": 59,
     "metadata": {},
     "output_type": "execute_result"
    }
   ],
   "source": [
    "pos_ = (12, 12)\n",
    "\n",
    "def out_of_bounds(pos, width= width, height = height) : \n",
    "    \"\"\" check if pos is in grid\n",
    "    pos has a height first \n",
    "    does not work with negative indexing\"\"\"\n",
    "    tst = False\n",
    "    if pos[0] < 0 or pos[1] < 0 or pos[0] >= height or pos[1] >= width :\n",
    "        tst = True\n",
    "    return tst\n",
    "\n",
    "out_of_bounds(pos_)"
   ]
  },
  {
   "cell_type": "code",
   "execution_count": 72,
   "metadata": {},
   "outputs": [],
   "source": []
  },
  {
   "cell_type": "code",
   "execution_count": null,
   "metadata": {},
   "outputs": [],
   "source": []
  },
  {
   "cell_type": "code",
   "execution_count": 78,
   "metadata": {},
   "outputs": [
    {
     "data": {
      "text/plain": [
       "[(5, 12), (7, 12), (6, 11), (6, 13)]"
      ]
     },
     "execution_count": 78,
     "metadata": {},
     "output_type": "execute_result"
    }
   ],
   "source": [
    "potential_moves((6,12))"
   ]
  },
  {
   "cell_type": "code",
   "execution_count": 77,
   "metadata": {},
   "outputs": [
    {
     "data": {
      "text/plain": [
       "0"
      ]
     },
     "execution_count": 77,
     "metadata": {},
     "output_type": "execute_result"
    }
   ],
   "source": [
    "len(in_bounds_moves((6,12)))"
   ]
  },
  {
   "cell_type": "code",
   "execution_count": 64,
   "metadata": {},
   "outputs": [
    {
     "name": "stdout",
     "output_type": "stream",
     "text": [
      "(11, 12)\n",
      "(13, 12)\n",
      "(12, 11)\n",
      "(12, 13)\n"
     ]
    }
   ],
   "source": [
    "lst = potential_moves(pos_)\n",
    "len(lst)\n",
    "for elt in lst : \n",
    "    print(elt)"
   ]
  },
  {
   "cell_type": "code",
   "execution_count": null,
   "metadata": {},
   "outputs": [],
   "source": [
    "# left, up, right, down\n",
    "# l_unit_coverage = [8, 44, 33, 6 ] > \n",
    "# u_unit_coverage = [9, 30, 40, 12] >\n",
    "# r_unit_coverage = [16, 36, 27, 12] >\n",
    "# d_unit_coverage = [15, 50, 20, 6] >"
   ]
  }
 ],
 "metadata": {
  "kernelspec": {
   "display_name": "Python 3",
   "language": "python",
   "name": "python3"
  },
  "language_info": {
   "codemirror_mode": {
    "name": "ipython",
    "version": 3
   },
   "file_extension": ".py",
   "mimetype": "text/x-python",
   "name": "python",
   "nbconvert_exporter": "python",
   "pygments_lexer": "ipython3",
   "version": "3.7.0"
  },
  "orig_nbformat": 4,
  "vscode": {
   "interpreter": {
    "hash": "19b7e43dddd310443c49102809069a7e3b0bf9f55f9448a9b3ca8522660b0331"
   }
  }
 },
 "nbformat": 4,
 "nbformat_minor": 2
}
