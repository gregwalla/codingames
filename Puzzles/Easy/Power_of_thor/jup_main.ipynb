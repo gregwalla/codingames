{
 "cells": [
  {
   "cell_type": "code",
   "execution_count": 2,
   "metadata": {},
   "outputs": [],
   "source": [
    "from  main import  * \n",
    "import numpy as np \n"
   ]
  },
  {
   "cell_type": "code",
   "execution_count": 33,
   "metadata": {},
   "outputs": [
    {
     "data": {
      "text/plain": [
       "array([[[-1., -1.],\n",
       "        [-1.,  0.],\n",
       "        [-1.,  1.]],\n",
       "\n",
       "       [[ 0., -1.],\n",
       "        [ 0.,  0.],\n",
       "        [ 0.,  1.]],\n",
       "\n",
       "       [[ 1., -1.],\n",
       "        [ 1.,  0.],\n",
       "        [ 1.,  1.]]])"
      ]
     },
     "execution_count": 33,
     "metadata": {},
     "output_type": "execute_result"
    }
   ],
   "source": [
    "rg"
   ]
  },
  {
   "cell_type": "code",
   "execution_count": 55,
   "metadata": {},
   "outputs": [
    {
     "data": {
      "text/plain": [
       "array([[[-1., -1.],\n",
       "        [-1.,  0.],\n",
       "        [-1.,  1.]],\n",
       "\n",
       "       [[ 0., -1.],\n",
       "        [ 0.,  0.],\n",
       "        [ 0.,  1.]],\n",
       "\n",
       "       [[ 1., -1.],\n",
       "        [ 1.,  0.],\n",
       "        [ 1.,  1.]]])"
      ]
     },
     "execution_count": 55,
     "metadata": {},
     "output_type": "execute_result"
    }
   ],
   "source": [
    "rg"
   ]
  },
  {
   "cell_type": "code",
   "execution_count": 54,
   "metadata": {},
   "outputs": [
    {
     "data": {
      "text/plain": [
       "array([[2., 1., 2.],\n",
       "       [1., 0., 1.],\n",
       "       [2., 1., 2.]])"
      ]
     },
     "execution_count": 54,
     "metadata": {},
     "output_type": "execute_result"
    }
   ],
   "source": [
    "\n",
    "pos = np.array([0, 30])\n",
    "ms = [np.array([5, 15]), np.array([6, 1]) , np.array([9, 12])]\n",
    "t = np.array([6, 8])\n",
    "\n",
    "rg = generate_range()\n",
    "#pp = potential_pos(pos, rg)\n",
    "\n",
    "def distance_mat(lst, mat): \n",
    "    \"\"\" returns closest monster for each potential position \"\"\"\n",
    "    dist_mat = np.zeros((3,3))\n",
    "    for lat in range(3):\n",
    "        for lon in range(3):\n",
    "            md = [manh_dist(elt, mat[lat][lon]) for elt in lst]\n",
    "            dist_mat[lat][lon] = np.amin(md)\n",
    "\n",
    "    return dist_mat\n",
    "\n",
    "\n",
    "dm = distance_mat(pos, rg)\n",
    "dm\n",
    "\n",
    "\n"
   ]
  },
  {
   "cell_type": "code",
   "execution_count": 44,
   "metadata": {},
   "outputs": [],
   "source": [
    "x = np.array([1,3])"
   ]
  },
  {
   "cell_type": "code",
   "execution_count": 48,
   "metadata": {},
   "outputs": [
    {
     "data": {
      "text/plain": [
       "-2.0"
      ]
     },
     "execution_count": 48,
     "metadata": {},
     "output_type": "execute_result"
    }
   ],
   "source": [
    "dm[0][0]"
   ]
  },
  {
   "cell_type": "code",
   "execution_count": 45,
   "metadata": {},
   "outputs": [
    {
     "data": {
      "text/plain": [
       "False"
      ]
     },
     "execution_count": 45,
     "metadata": {},
     "output_type": "execute_result"
    }
   ],
   "source": [
    "dm[0][0] == np.sum(x) - 2\n",
    "dm[1][1] == np.sum(x) \n",
    "dm[2][2] == np.sum(x) + 2\n"
   ]
  },
  {
   "cell_type": "code",
   "execution_count": 36,
   "metadata": {},
   "outputs": [
    {
     "data": {
      "text/plain": [
       "array([[[-1., -1.],\n",
       "        [-1.,  0.],\n",
       "        [-1.,  1.]],\n",
       "\n",
       "       [[ 0., -1.],\n",
       "        [ 0.,  0.],\n",
       "        [ 0.,  1.]],\n",
       "\n",
       "       [[ 1., -1.],\n",
       "        [ 1.,  0.],\n",
       "        [ 1.,  1.]]])"
      ]
     },
     "execution_count": 36,
     "metadata": {},
     "output_type": "execute_result"
    }
   ],
   "source": [
    "pp"
   ]
  }
 ],
 "metadata": {
  "kernelspec": {
   "display_name": "Python 3.9.13 ('base')",
   "language": "python",
   "name": "python3"
  },
  "language_info": {
   "codemirror_mode": {
    "name": "ipython",
    "version": 3
   },
   "file_extension": ".py",
   "mimetype": "text/x-python",
   "name": "python",
   "nbconvert_exporter": "python",
   "pygments_lexer": "ipython3",
   "version": "3.9.13"
  },
  "orig_nbformat": 4,
  "vscode": {
   "interpreter": {
    "hash": "c8691ead823a2fc03e733d534bbe43cd39fed0d674c4407efbb26bb433fc18ce"
   }
  }
 },
 "nbformat": 4,
 "nbformat_minor": 2
}
